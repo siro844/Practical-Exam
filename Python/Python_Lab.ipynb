{
  "nbformat": 4,
  "nbformat_minor": 0,
  "metadata": {
    "colab": {
      "provenance": []
    },
    "kernelspec": {
      "name": "python3",
      "display_name": "Python 3"
    },
    "language_info": {
      "name": "python"
    }
  },
  "cells": [
    {
      "cell_type": "code",
      "execution_count": null,
      "metadata": {
        "id": "KYgKk6-EzLuC"
      },
      "outputs": [],
      "source": []
    },
    {
      "cell_type": "markdown",
      "source": [
        "# Lec 2 (data types)"
      ],
      "metadata": {
        "id": "kRY-EHbfzTrg"
      }
    },
    {
      "cell_type": "markdown",
      "source": [
        "Mutable(List,Dictionary,Sets) and Immutable(Tuples)"
      ],
      "metadata": {
        "id": "fklj7Msnz3cb"
      }
    },
    {
      "cell_type": "code",
      "source": [
        "\n",
        "#Lists\n",
        "l1=[2,3,'4',5]\n",
        "l1.append(6)\n",
        "l1.remove('4')\n",
        "print(l1)\n",
        "print(l1[2])"
      ],
      "metadata": {
        "colab": {
          "base_uri": "https://localhost:8080/"
        },
        "id": "i5vfG_M7zeGD",
        "outputId": "3fadf0fa-840b-4333-b864-9d4f3f26cb8a"
      },
      "execution_count": null,
      "outputs": [
        {
          "output_type": "stream",
          "name": "stdout",
          "text": [
            "5\n"
          ]
        }
      ]
    },
    {
      "cell_type": "code",
      "source": [
        "#Dictionaries\n",
        "#Like hashMap 1 key can have only 1 value\n",
        "d1={\"one\":1,\"two\":2}\n",
        "print(d1)\n",
        "d2={\"Yash\":{\"age\":19,\"Hometown\":\"Mumbai\"},\"Rushank\":{\"age\":19,\"Hometown\":\"Virar\"}} #dict of dict\n",
        "d2[\"Dhriti\"]={\"age\":20,\"Hometown\":\"Thane\"}\n",
        "print(d2)"
      ],
      "metadata": {
        "colab": {
          "base_uri": "https://localhost:8080/"
        },
        "id": "LJqTonMM0NZC",
        "outputId": "157f279f-b187-46f8-e2fb-7322f96cfc79"
      },
      "execution_count": null,
      "outputs": [
        {
          "output_type": "stream",
          "name": "stdout",
          "text": [
            "{'one': 1, 'two': 2}\n",
            "{'Yash': {'age': 19, 'Hometown': 'Mumbai'}, 'Rushank': {'age': 19, 'Hometown': 'Virar'}, 'Dhriti': {'age': 20, 'Hometown': 'Thane'}}\n"
          ]
        }
      ]
    },
    {
      "cell_type": "code",
      "source": [
        "#Sets just like set unique elements\n",
        "s1={1,2,3,1}\n",
        "s2=set([1,2,3,4,5,6,3])\n",
        "print(s1,\"and\",s2,\"union is\",s1.union(s2),\"and Intersection is\",s1.intersection(s2))\n",
        "# | for union and & for intersection\n"
      ],
      "metadata": {
        "colab": {
          "base_uri": "https://localhost:8080/"
        },
        "id": "ZCfyJwRW10PT",
        "outputId": "c8492ba2-79b5-414b-88ca-745efe73fb7c"
      },
      "execution_count": null,
      "outputs": [
        {
          "output_type": "stream",
          "name": "stdout",
          "text": [
            "{1, 2, 3} and {1, 2, 3, 4, 5, 6} union is {1, 2, 3, 4, 5, 6} and Intersection is {1, 2, 3}\n"
          ]
        }
      ]
    },
    {
      "cell_type": "code",
      "source": [
        "#Tuples (Unique element which cant be changed once made)\n",
        "t1=(1,2,3,5)\n",
        "#t1(2)=4 #File \"<ipython-input-17-dbcf8ea36cfc>\", line 3 Error\n",
        "print(t1)\n",
        "#Tuples can be used as directory keys\n",
        "work={(\"Rebecca\",1):12,(\"Alex\",2):9}\n",
        "print(work[(\"Rebecca\",1)])"
      ],
      "metadata": {
        "colab": {
          "base_uri": "https://localhost:8080/"
        },
        "id": "R39U_iSO2gmx",
        "outputId": "ae9bcb6c-d91b-43ae-d79a-ade35e19a5a6"
      },
      "execution_count": null,
      "outputs": [
        {
          "output_type": "stream",
          "name": "stdout",
          "text": [
            "(1, 2, 3, 5)\n",
            "12\n"
          ]
        }
      ]
    },
    {
      "cell_type": "markdown",
      "source": [
        "##NumPy: Numerical Python"
      ],
      "metadata": {
        "id": "_UfYI1jo5xsX"
      }
    },
    {
      "cell_type": "code",
      "source": [
        "import numpy as np\n",
        "import random\n",
        "arr=np.array([1,2,3,4,5])\n",
        "print(arr)\n",
        "arr2=np.array([[1,2,3],[4,5,6]])\n",
        "print(arr2)\n",
        "# ndmin minimum dimension of np array\n",
        "arr3=np.array([1,3,5,7,9,11],ndmin=3)\n",
        "print(arr3)\n",
        "random_array = np.random.rand(3, 3)\n",
        "print(random_array)"
      ],
      "metadata": {
        "colab": {
          "base_uri": "https://localhost:8080/"
        },
        "id": "5ff-zmyF52cP",
        "outputId": "6242c893-a7ff-4074-f901-688b3b8499ee"
      },
      "execution_count": null,
      "outputs": [
        {
          "output_type": "stream",
          "name": "stdout",
          "text": [
            "[1 2 3 4 5]\n",
            "[[1 2 3]\n",
            " [4 5 6]]\n",
            "[[[ 1  3  5  7  9 11]]]\n",
            "[[0.41495974 0.04600886 0.59611285]\n",
            " [0.129781   0.63810714 0.28779567]\n",
            " [0.82675093 0.78008617 0.2287549 ]]\n",
            "3.3802012998253907\n"
          ]
        }
      ]
    },
    {
      "cell_type": "markdown",
      "source": [
        "## Exercise"
      ],
      "metadata": {
        "id": "BkDBOexU84Ac"
      }
    },
    {
      "cell_type": "code",
      "source": [
        "# random choice\n",
        "import random\n",
        "print(random.choice(l1))\n",
        "\n",
        "#count till tuple\n",
        "l2=[1,3,5,(7,8),9,11]\n",
        "count = 0\n",
        "for ele in l2:\n",
        "  if isinstance(ele,tuple):\n",
        "    break\n",
        "  count+=1\n",
        "print(count)\n",
        "\n",
        "#Dictionary of 5 countries with currency\n",
        "countries_currencies = {\n",
        "    \"United States\": \"US Dollar\",\n",
        "    \"United Kingdom\": \"British Pound\",\n",
        "    \"Japan\": \"Japanese Yen\",\n",
        "    \"China\": \"Chinese Yuan\",\n",
        "    \"Canada\": \"Canadian Dollar\"\n",
        "}\n",
        "print(countries_currencies)\n",
        "\n",
        "#Reverse tuple list\n",
        "tp=tuple([1,3,4,5,8,10,13])\n",
        "tp_list=list(tp)\n",
        "tp_list.reverse()\n",
        "tp=tuple(tp_list)\n",
        "print(tp)"
      ],
      "metadata": {
        "colab": {
          "base_uri": "https://localhost:8080/"
        },
        "id": "wM_5qFBU85tB",
        "outputId": "f320b81d-340e-4f5e-8a23-0bbcb3ff4e9c"
      },
      "execution_count": null,
      "outputs": [
        {
          "output_type": "stream",
          "name": "stdout",
          "text": [
            "2\n",
            "3\n",
            "{'United States': 'US Dollar', 'United Kingdom': 'British Pound', 'Japan': 'Japanese Yen', 'China': 'Chinese Yuan', 'Canada': 'Canadian Dollar'}\n",
            "(13, 10, 8, 5, 4, 3, 1)\n"
          ]
        }
      ]
    },
    {
      "cell_type": "code",
      "source": [
        "import numpy as np\n",
        "#create array with all 1\n",
        "arr = np.ones(shape=(2,7))\n",
        "print(arr)\n",
        "#check if exists\n",
        "# Define the numpy array\n",
        "array = np.array([[1, 2, 3],\n",
        "                  [4, 5, 6],\n",
        "                  [7, 8, 9]])\n",
        "\n",
        "# Define the row to search for\n",
        "target_row = np.array([4, 5, 6])\n",
        "\n",
        "# sum of all vals\n",
        "sum=np.sum(array)\n",
        "print(sum)\n",
        "# Check if the target row exists in the array\n",
        "result = np.any(np.all(array == target_row,axis=1))\n",
        "# Print the result\n",
        "print(f\"Does the array contain the target row? {result}\")\n",
        "\n"
      ],
      "metadata": {
        "colab": {
          "base_uri": "https://localhost:8080/"
        },
        "id": "hbiz0qnt-4Tz",
        "outputId": "ec41274e-cffb-43f3-89b7-21549050f645"
      },
      "execution_count": null,
      "outputs": [
        {
          "output_type": "stream",
          "name": "stdout",
          "text": [
            "[[1. 1. 1. 1. 1. 1. 1.]\n",
            " [1. 1. 1. 1. 1. 1. 1.]]\n",
            "45\n",
            "Does the array contain the target row? True\n"
          ]
        }
      ]
    },
    {
      "source": [
        "import numpy as np\n",
        "\n",
        "# Define the matrices\n",
        "matrix_a = np.array([[1, 2], [3, 4]])\n",
        "matrix_b = np.array([[5, 6], [7, 8]])\n",
        "\n",
        "# Add the matrices\n",
        "sum_matrix = np.add(matrix_a, matrix_b)\n",
        "\n",
        "# Multiply the matrices\n",
        "product_matrix = np.dot(matrix_a, matrix_b)\n",
        "\n",
        "# Print the results\n",
        "print(\"Sum of matrices:\")\n",
        "print(sum_matrix)\n",
        "print(\"\\nProduct of matrices:\")\n",
        "print(product_matrix)\n",
        "flat_mat=product_matrix.flatten()\n",
        "print(flat_mat)\n",
        "sor_mat=np.sort(flat_mat)[::-1]\n",
        "print(sor_mat)\n",
        "print(np.sort(sum_matrix,axis=1)[::-1])"
      ],
      "cell_type": "code",
      "metadata": {
        "id": "Uo9XiUU9GKr5"
      },
      "execution_count": null,
      "outputs": []
    },
    {
      "cell_type": "markdown",
      "source": [
        "Stats"
      ],
      "metadata": {
        "id": "sYuavv2tIEsX"
      }
    },
    {
      "source": [
        "import numpy as np\n",
        "from scipy import stats\n",
        "\n",
        "# Define the array\n",
        "data = np.array([11, 15, 13, 11, 14, 13, 15, 12, 14, 13,\n",
        "                 15, 12, 11, 14, 13, 12, 11, 15, 14, 13])\n",
        "\n",
        "# Find the most frequent value and its count\n",
        "mode_value, mode_count = stats.mode(data)\n",
        "\n",
        "# Print the most frequent value and its frequency\n",
        "print(f\"Most frequent value: {mode_value}\")\n",
        "print(f\"Frequency count: {mode_count}\")\n",
        "\n",
        "# Calculate the mean, variance, and standard deviation\n",
        "mean = np.mean(data)\n",
        "variance = np.round(np.var(data),3)\n",
        "standard_deviation = np.round(np.std(data),3)\n",
        "\n",
        "# Print the results\n",
        "print(f\"Mean: {mean}\")\n",
        "print(f\"Variance: {variance}\")\n",
        "print(f\"Standard deviation: {standard_deviation}\")"
      ],
      "cell_type": "code",
      "metadata": {
        "colab": {
          "base_uri": "https://localhost:8080/"
        },
        "id": "JUi2sOAkIQ8I",
        "outputId": "d15c671c-2ae1-4255-c552-a59a49db9588"
      },
      "execution_count": null,
      "outputs": [
        {
          "output_type": "stream",
          "name": "stdout",
          "text": [
            "Most frequent value: 13\n",
            "Frequency count: 5\n",
            "Mean: 13.05\n",
            "Variance: 1.947\n",
            "Standard deviation: 1.396\n"
          ]
        }
      ]
    },
    {
      "cell_type": "markdown",
      "source": [
        "# Lec 3 (Conditional statements)"
      ],
      "metadata": {
        "id": "Q3XscKv5LBh1"
      }
    },
    {
      "cell_type": "code",
      "source": [
        "x1=int(input(\"Enter x1\\n\"))\n",
        "x2=int(input(\"Enter x2\\n\"))\n",
        "y1=int(input(\"Enter y1\\n\"))\n",
        "y2=int(input(\"Enter y2\\n\"))\n",
        "\n",
        "ans=(y2-y1)/(x2-x1)\n",
        "if(x2-x1==0):\n",
        "  print(\"vertical Line\")\n",
        "elif(ans>0):\n",
        "  print(\"Positive slope\")\n",
        "elif(ans<0):\n",
        "  print(\"negative slope\")\n",
        "else:\n",
        "  print(\"Horizontal line\")\n"
      ],
      "metadata": {
        "colab": {
          "base_uri": "https://localhost:8080/"
        },
        "id": "KfMSL9-mJo1f",
        "outputId": "4e0bf64e-5359-44fe-8bb4-2f7bcde26eae"
      },
      "execution_count": null,
      "outputs": [
        {
          "output_type": "stream",
          "name": "stdout",
          "text": [
            "Enter x1\n",
            "13\n",
            "Enter x2\n",
            "4\n",
            "Enter y1\n",
            "14\n",
            "Enter y2\n",
            "14\n",
            "Horizontal line\n"
          ]
        }
      ]
    },
    {
      "source": [
        "# Initialize the starting temperature in Celsius\n",
        "celsius = 10\n",
        "\n",
        "# Print the header\n",
        "print(\"Celsius\\tFahrenheit\")\n",
        "\n",
        "# Use a while loop to iterate from 10 to 20 degrees Celsius\n",
        "while celsius <= 20:\n",
        "    # Convert Celsius to Fahrenheit using the formula\n",
        "    fahrenheit = (celsius * 9/5) + 32\n",
        "\n",
        "    # Print the temperature values\n",
        "    print(f\"{celsius}\\t\\t{fahrenheit}\")\n",
        "\n",
        "    # Increase the Celsius temperature by 1 degree\n",
        "    celsius += 1"
      ],
      "cell_type": "code",
      "metadata": {
        "colab": {
          "base_uri": "https://localhost:8080/"
        },
        "id": "s95N0-qcOs_9",
        "outputId": "29de5a49-dfd4-4618-fbd9-e294fa157243"
      },
      "execution_count": null,
      "outputs": [
        {
          "output_type": "stream",
          "name": "stdout",
          "text": [
            "Celsius\tFahrenheit\n",
            "10\t\t50.0\n",
            "11\t\t51.8\n",
            "12\t\t53.6\n",
            "13\t\t55.4\n",
            "14\t\t57.2\n",
            "15\t\t59.0\n",
            "16\t\t60.8\n",
            "17\t\t62.6\n",
            "18\t\t64.4\n",
            "19\t\t66.2\n",
            "20\t\t68.0\n"
          ]
        }
      ]
    },
    {
      "source": [
        "# Create a list of integers\n",
        "numbers = [1, 2, 3, 4, 5, 1, 2, 3, 4, 5, 2, 3, 4, 5, 6, 7, 8, 9, 3, 4, 5, 6, 7, 8, 9, 10]\n",
        "\n",
        "# Create a dictionary to store the frequency of each integer\n",
        "frequency_dict = {}\n",
        "\n",
        "# Iterate through the list and count the frequency of each integer\n",
        "for num in numbers:\n",
        "    if num not in frequency_dict:\n",
        "        frequency_dict[num] = 1\n",
        "    else:\n",
        "        frequency_dict[num] += 1\n",
        "\n",
        "# Print the frequency of each integer\n",
        "for num, freq in frequency_dict.items():\n",
        "    print(f\"Number: {num}, Frequency: {freq}\")"
      ],
      "cell_type": "code",
      "metadata": {
        "colab": {
          "base_uri": "https://localhost:8080/"
        },
        "id": "-MhdaMseSUTp",
        "outputId": "01955ac9-815a-401c-b00f-bef874fa0bac"
      },
      "execution_count": null,
      "outputs": [
        {
          "output_type": "stream",
          "name": "stdout",
          "text": [
            "Number: 1, Frequency: 2\n",
            "Number: 2, Frequency: 3\n",
            "Number: 3, Frequency: 4\n",
            "Number: 4, Frequency: 4\n",
            "Number: 5, Frequency: 4\n",
            "Number: 6, Frequency: 2\n",
            "Number: 7, Frequency: 2\n",
            "Number: 8, Frequency: 2\n",
            "Number: 9, Frequency: 2\n",
            "Number: 10, Frequency: 1\n"
          ]
        }
      ]
    },
    {
      "cell_type": "code",
      "source": [
        "def is_prime(n):\n",
        "\n",
        "  if n <= 1:\n",
        "    return False\n",
        "\n",
        "  for i in range(2, int(n**0.5) + 1):\n",
        "    if n % i == 0:\n",
        "      return False\n",
        "\n",
        "  return True\n",
        "\n",
        "print(is_prime(23))"
      ],
      "metadata": {
        "colab": {
          "base_uri": "https://localhost:8080/"
        },
        "id": "8ypn899pS66W",
        "outputId": "1fa95ba4-6973-48f9-9771-e9b97e4b2b57"
      },
      "execution_count": null,
      "outputs": [
        {
          "output_type": "stream",
          "name": "stdout",
          "text": [
            "True\n"
          ]
        }
      ]
    },
    {
      "cell_type": "code",
      "source": [
        "def fact(n):\n",
        "  ans=1\n",
        "  while(n>0):\n",
        "    ans*=n\n",
        "    n=n-1\n",
        "  return ans\n",
        "\n",
        "def rec_fact(n,ans):\n",
        "  if(n<1):\n",
        "    return ans\n",
        "  ans=ans*n*rec_fact(n-1,ans)\n",
        "  return ans\n",
        "\n",
        "print(fact(7))\n",
        "print(rec_fact(7,1))"
      ],
      "metadata": {
        "colab": {
          "base_uri": "https://localhost:8080/"
        },
        "id": "k2_6zkNdTUy7",
        "outputId": "23020ee5-929d-49c3-bb54-6f6afc22fc99"
      },
      "execution_count": null,
      "outputs": [
        {
          "output_type": "stream",
          "name": "stdout",
          "text": [
            "5040\n",
            "5040\n"
          ]
        }
      ]
    },
    {
      "source": [
        "greater = lambda x, y: x if x > y else y\n",
        "\n",
        "x=int(input(\"Enter x \"))\n",
        "y=int(input(\"Enter y \"))\n",
        "\n",
        "print(greater(x,y))\n",
        "\n"
      ],
      "cell_type": "code",
      "metadata": {
        "colab": {
          "base_uri": "https://localhost:8080/"
        },
        "id": "FirjfWziVhTp",
        "outputId": "bd176d52-959b-4e27-e878-bff0818a36ad"
      },
      "execution_count": null,
      "outputs": [
        {
          "output_type": "stream",
          "name": "stdout",
          "text": [
            "Enter x 14\n",
            "Enter y 34\n",
            "34\n"
          ]
        }
      ]
    },
    {
      "source": [
        "def elementwise_addition(list1, list2):\n",
        "  result = map(lambda x, y: x + y, list1, list2)\n",
        "  return list(result)\n",
        "# Example usage\n",
        "list1 = [1, 2, 3, 4, 5]\n",
        "list2 = [6, 7, 8, 9, 10]\n",
        "\n",
        "result = elementwise_addition(list1, list2)\n",
        "\n",
        "print(result)\n",
        "from functools import reduce\n",
        "def odd_sqr(list2):\n",
        "  odd_no = list((filter(lambda x:x%2 == 1,list2)))\n",
        "  odd_sqr= list(map(lambda x:x**2,odd_no))\n",
        "  odd_sum= reduce(lambda x,y:x+y,odd_sqr)\n",
        "  return odd_sum\n",
        "\n",
        "print(odd_sqr(list2))"
      ],
      "cell_type": "code",
      "metadata": {
        "colab": {
          "base_uri": "https://localhost:8080/"
        },
        "id": "HgbnXVG-ZlsS",
        "outputId": "ceca488a-26cc-4d8d-c236-1debfc1c9b45"
      },
      "execution_count": null,
      "outputs": [
        {
          "output_type": "stream",
          "name": "stdout",
          "text": [
            "[7, 9, 11, 13, 15]\n",
            "130\n"
          ]
        }
      ]
    }
  ]
}