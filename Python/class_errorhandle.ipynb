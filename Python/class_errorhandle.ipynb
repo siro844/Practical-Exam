{
 "cells": [
  {
   "cell_type": "code",
   "execution_count": 11,
   "metadata": {},
   "outputs": [
    {
     "name": "stdout",
     "output_type": "stream",
     "text": [
      "The input entered is invalid\n"
     ]
    }
   ],
   "source": [
    "class InvalidInput(Exception):\n",
    "    pass\n",
    "\n",
    "mark=int(input(\"Enter your marks: \"))\n",
    "try:\n",
    "    if mark>100 or mark<0:\n",
    "        raise InvalidInput\n",
    "    else:\n",
    "        print(\"You dont lie\")\n",
    "except InvalidInput:\n",
    "    print(\"The input entered is invalid\")"
   ]
  },
  {
   "cell_type": "code",
   "execution_count": 18,
   "metadata": {},
   "outputs": [
    {
     "name": "stdout",
     "output_type": "stream",
     "text": [
      "Both are not integers\n"
     ]
    }
   ],
   "source": [
    "a =(input(\"Enter number 1\"))\n",
    "b =(input(\"Enter number 2\"))\n",
    "\n",
    "try:\n",
    "    r1 = int(a)\n",
    "    r2= int(b)\n",
    "    print(\"Both are integers\")\n",
    "except ValueError:\n",
    "    print(\"Both are not integers\")"
   ]
  },
  {
   "cell_type": "markdown",
   "metadata": {},
   "source": [
    "# Classes"
   ]
  },
  {
   "cell_type": "code",
   "execution_count": 24,
   "metadata": {},
   "outputs": [
    {
     "name": "stdout",
     "output_type": "stream",
     "text": [
      "19\n"
     ]
    }
   ],
   "source": [
    "class Details:\n",
    "    name=\"Yash\"\n",
    "    age=19\n",
    "\n",
    "person = Details()\n",
    "try:\n",
    "    print(person.age)\n",
    "except AttributeError:\n",
    "    print(\"Attribute not found\")\n"
   ]
  },
  {
   "cell_type": "code",
   "execution_count": 34,
   "metadata": {},
   "outputs": [
    {
     "name": "stdout",
     "output_type": "stream",
     "text": [
      "Yash is in Division 31\n"
     ]
    }
   ],
   "source": [
    "class Student:\n",
    "    def __init__(self,name,div):\n",
    "        self.name=name\n",
    "        self.div=div\n",
    "    def print_name_and_division(self):  \n",
    "        print(self.name, \"is in Division\", self.div)  \n",
    "person = Student(\"Yash\",31)\n",
    "person.print_name_and_division()  \n"
   ]
  },
  {
   "cell_type": "code",
   "execution_count": 35,
   "metadata": {},
   "outputs": [
    {
     "name": "stdout",
     "output_type": "stream",
     "text": [
      "Im the parent class\n",
      "Im the child class\n"
     ]
    }
   ],
   "source": [
    "class Parent:\n",
    "    def fun1(self):\n",
    "        print(\"Im the parent class\")\n",
    "\n",
    "class Child(Parent):\n",
    "    def fun2(self):\n",
    "        print(\"Im the child class\") \n",
    "\n",
    "obj1 = Child()\n",
    "obj1.fun1()\n",
    "obj1.fun2()               "
   ]
  },
  {
   "cell_type": "code",
   "execution_count": 36,
   "metadata": {},
   "outputs": [
    {
     "name": "stdout",
     "output_type": "stream",
     "text": [
      "Father is :  Yatin  Mother is :  Samrudhi\n"
     ]
    }
   ],
   "source": [
    "class Father:\n",
    "    father=\"\"\n",
    "    def father(self):\n",
    "        print(self.father)\n",
    "\n",
    "class Mother:\n",
    "    mother=\"\"\n",
    "    def mother(self):\n",
    "        print(self.mother)\n",
    "\n",
    "class Child(Father,Mother):\n",
    "    def parent(self):\n",
    "        print(\"Father is : \",self.father,\" Mother is : \",self.mother)\n",
    "\n",
    "yash = Child()\n",
    "yash.father=\"Yatin\"\n",
    "yash.mother=\"Samrudhi\"\n",
    "yash.parent()"
   ]
  },
  {
   "cell_type": "code",
   "execution_count": 43,
   "metadata": {},
   "outputs": [
    {
     "name": "stdout",
     "output_type": "stream",
     "text": [
      "Pika pi\n",
      "Char Char\n"
     ]
    }
   ],
   "source": [
    "# Getters: Used to get a Value @property\n",
    "# Setters: Used to replace the current obj value with that value\n",
    "class Pikachu:\n",
    "    def __init__(self,value):\n",
    "        self._value=value\n",
    "\n",
    "    @property\n",
    "    def g_val(self):\n",
    "        return self._value\n",
    "\n",
    "    @g_val.setter\n",
    "    def g_val(self,new_val):  \n",
    "        self._value=new_val\n",
    "\n",
    "obj=Pikachu(\"Pika pi\")\n",
    "print(obj.g_val)\n",
    "obj.g_val = \"Char Char\"  \n",
    "print(obj.g_val)"
   ]
  },
  {
   "cell_type": "code",
   "execution_count": 50,
   "metadata": {},
   "outputs": [
    {
     "name": "stdout",
     "output_type": "stream",
     "text": [
      "Tu janta nahi mera baap kon hain\n",
      "Ajoba : Charlizard\n",
      "Baba : Charmeleon\n",
      "Mi : Charmender\n"
     ]
    }
   ],
   "source": [
    "#Multilevel Inheritence + super keyword\n",
    "\n",
    "class GrandFather:\n",
    "    def __init__(self,grandfather):\n",
    "        self.grandfather=grandfather\n",
    "\n",
    "class Father(GrandFather):\n",
    "    def __init__(self,father,grandfather):\n",
    "        self.father=father\n",
    "        GrandFather.__init__(self,grandfather)\n",
    "    def papu(self):\n",
    "        print(\"Tu janta nahi mera baap kon hain\")    \n",
    "\n",
    "class Child(Father):\n",
    "    def __init__(self,son,father,grandfather):\n",
    "        self.son=son\n",
    "        Father.__init__(self,father,grandfather)\n",
    "    \n",
    "    def print_name(self):\n",
    "        super().papu()\n",
    "        print('Ajoba :',self.grandfather)\n",
    "        print('Baba :',self.father)\n",
    "        print('Mi :',self.son)\n",
    "\n",
    "pokemon =Child('Charmender','Charmeleon','Charlizard')\n",
    "pokemon.print_name()\n"
   ]
  },
  {
   "cell_type": "code",
   "execution_count": 55,
   "metadata": {},
   "outputs": [
    {
     "name": "stdout",
     "output_type": "stream",
     "text": [
      "50.24\n"
     ]
    }
   ],
   "source": [
    "class Shape:\n",
    "    def __init__(self,x,y):\n",
    "        self.x=x\n",
    "        self.y=y\n",
    "    def area(self):\n",
    "        return self.x*self.y\n",
    "\n",
    "class Circle(Shape):\n",
    "    def __init__(self,r):\n",
    "        self.r=r\n",
    "        super().__init__(r,r)\n",
    "    def area(self):\n",
    "        return 3.14* super().area()\n",
    "\n",
    "gola = Circle(4)\n",
    "print(gola.area())        \n"
   ]
  }
 ],
 "metadata": {
  "kernelspec": {
   "display_name": "Python 3",
   "language": "python",
   "name": "python3"
  },
  "language_info": {
   "codemirror_mode": {
    "name": "ipython",
    "version": 3
   },
   "file_extension": ".py",
   "mimetype": "text/x-python",
   "name": "python",
   "nbconvert_exporter": "python",
   "pygments_lexer": "ipython3",
   "version": "3.11.9"
  }
 },
 "nbformat": 4,
 "nbformat_minor": 2
}
