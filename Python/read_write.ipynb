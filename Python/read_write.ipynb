{
 "cells": [
  {
   "cell_type": "code",
   "execution_count": 13,
   "metadata": {},
   "outputs": [
    {
     "data": {
      "text/plain": [
       "'Varad,93,Chennai,Yash,95,Mumbai'"
      ]
     },
     "execution_count": 13,
     "metadata": {},
     "output_type": "execute_result"
    }
   ],
   "source": [
    "\n",
    "file = open(\"friends.txt\", \"w\")\n",
    "file.write(\"Varad,93,Chennai,\")\n",
    "file.write(\"Yash,95,Mumbai\")\n",
    "file.close()\n",
    "# fil = pd.read_csv(\"friends.csv\")\n",
    "# print(fil)\n",
    "frind = open(\"friends.txt\",\"r+\")\n",
    "frind.read()\n"
   ]
  },
  {
   "cell_type": "code",
   "execution_count": 2,
   "metadata": {},
   "outputs": [
    {
     "name": "stdout",
     "output_type": "stream",
     "text": [
      "Binary: 101010\n",
      "Octal: 52\n",
      "Hexadecimal: 2a\n"
     ]
    }
   ],
   "source": [
    "decimal_number = 42\n",
    "\n",
    "binary_number = bin(decimal_number)\n",
    "octal_number = oct(decimal_number)\n",
    "hexadecimal_number = hex(decimal_number)\n",
    "\n",
    "print(\"Binary:\", binary_number[2:])\n",
    "print(\"Octal:\", octal_number[2:])\n",
    "print(\"Hexadecimal:\", hexadecimal_number[2:])"
   ]
  }
 ],
 "metadata": {
  "kernelspec": {
   "display_name": "Python 3",
   "language": "python",
   "name": "python3"
  },
  "language_info": {
   "codemirror_mode": {
    "name": "ipython",
    "version": 3
   },
   "file_extension": ".py",
   "mimetype": "text/x-python",
   "name": "python",
   "nbconvert_exporter": "python",
   "pygments_lexer": "ipython3",
   "version": "3.11.9"
  }
 },
 "nbformat": 4,
 "nbformat_minor": 2
}
