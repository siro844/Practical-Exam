{
 "cells": [
  {
   "cell_type": "code",
   "execution_count": 6,
   "metadata": {},
   "outputs": [],
   "source": [
    "n_orders = [\n",
    "    (34587, \"Learning Python\", \"Mark Lutz\", 4, 40.95),\n",
    "    (98762, \"Programming Python\", \"Mark Lutz\", 5, 56.80),\n",
    "    (77226, \"Head First Python\", \"Paul Barry\", 3, 32.95),\n",
    "    (88112, \"Einführung in Python3\", \"Bernd Klein\", 3, 24.99)\n",
    "]"
   ]
  },
  {
   "cell_type": "code",
   "execution_count": 7,
   "metadata": {},
   "outputs": [
    {
     "name": "stdout",
     "output_type": "stream",
     "text": [
      "[(34587, 163.8), (98762, 284.0), (77226, 108.85), (88112, 84.97)]\n"
     ]
    }
   ],
   "source": [
    "result = list(map(lambda x:(x[0],round((x[3]*x[4]+10),2) if (x[3]*x[4])<100 else round(x[3]*x[4],2)),n_orders))\n",
    "print(result)"
   ]
  },
  {
   "cell_type": "code",
   "execution_count": 1,
   "metadata": {},
   "outputs": [],
   "source": [
    "orders = [\n",
    "    [34587,(\"Learning Python\", \"Mark Lutz\", 4, 40.95)],\n",
    "    [98762,(\"Programming Python\", \"Mark Lutz\", 5, 56.80)],\n",
    "    [77226,(\"Head First Python\", \"Paul Barry\", 3, 32.95)],\n",
    "    [88112,(\"Einführung in Python3\", \"Bernd Klein\", 3, 24.99)]\n",
    "]"
   ]
  },
  {
   "cell_type": "code",
   "execution_count": 2,
   "metadata": {},
   "outputs": [
    {
     "name": "stdout",
     "output_type": "stream",
     "text": [
      "[(34587, 163.8), (98762, 284.0), (77226, 98.85000000000001), (88112, 74.97)]\n"
     ]
    }
   ],
   "source": [
    "result = list(map(lambda x:(x[0],sum(y[2]*y[3] for y in x[1:])),orders))\n",
    "print(result)"
   ]
  },
  {
   "cell_type": "code",
   "execution_count": 8,
   "metadata": {},
   "outputs": [
    {
     "name": "stdout",
     "output_type": "stream",
     "text": [
      "[(88112, 'Einführung in Python3', 'Bernd Klein', 3, 24.99), (34587, 'Learning Python', 'Mark Lutz', 4, 40.95), (98762, 'Programming Python', 'Mark Lutz', 5, 56.8), (77226, 'Head First Python', 'Paul Barry', 3, 32.95)]\n"
     ]
    }
   ],
   "source": [
    "sorted_it=sorted(n_orders,key=lambda x:x[2])\n",
    "print(sorted_it)"
   ]
  },
  {
   "cell_type": "code",
   "execution_count": null,
   "metadata": {},
   "outputs": [],
   "source": [
    "from datetime import datetime\n",
    "\n",
    "current_datetime = '2024-05-12 07:52:44.497767'\n",
    "dt = datetime.strptime(current_datetime, '%Y-%m-%d %H:%M:%S.%f')\n",
    "\n",
    "extract_info = lambda dt: (dt.month, dt.day, dt.time())\n",
    "result = extract_info(dt)\n",
    "print(result)"
   ]
  },
  {
   "cell_type": "code",
   "execution_count": 9,
   "metadata": {},
   "outputs": [
    {
     "name": "stdout",
     "output_type": "stream",
     "text": [
      "('wolleY', 'kcalB', 'eulB', 'neerG', 'deR')\n"
     ]
    }
   ],
   "source": [
    "original_list=['Red','Green','Blue','Black','Yellow']\n",
    "rev_list=tuple(map(lambda x: x[::-1],original_list))\n",
    "rev_list=rev_list[::-1]\n",
    "print(rev_list)"
   ]
  },
  {
   "cell_type": "code",
   "execution_count": 10,
   "metadata": {},
   "outputs": [
    {
     "name": "stdout",
     "output_type": "stream",
     "text": [
      "1954\n"
     ]
    }
   ],
   "source": [
    "def next_bigger_number(num):\n",
    "    digits = list(str(num))\n",
    "    \n",
    "    # Step 2: Find the pivot\n",
    "    pivot_idx = -1\n",
    "    for i in range(len(digits) - 2, -1, -1):\n",
    "        if digits[i] < digits[i+1]:\n",
    "            pivot_idx = i\n",
    "            break\n",
    "    \n",
    "    # Step 3: If no pivot found, return the original number\n",
    "    if pivot_idx == -1:\n",
    "        return num\n",
    "    \n",
    "    # Step 4: Find the swap digit\n",
    "    swap_idx = -1\n",
    "    for i in range(len(digits) - 1, pivot_idx, -1):\n",
    "        if digits[i] > digits[pivot_idx]:\n",
    "            swap_idx = i\n",
    "            break\n",
    "    \n",
    "    # Step 5: Swap the pivot and swap digits\n",
    "    digits[pivot_idx], digits[swap_idx] = digits[swap_idx], digits[pivot_idx]\n",
    "    \n",
    "    # Step 6: Sort the digits to the right of the pivot\n",
    "    digits[pivot_idx+1:] = sorted(digits[pivot_idx+1:])\n",
    "    \n",
    "    # Step 7: Concatenate the modified digits\n",
    "    next_bigger = int(''.join(digits))\n",
    "    \n",
    "    return next_bigger\n",
    "\n",
    "print(next_bigger_number(1945))"
   ]
  },
  {
   "cell_type": "code",
   "execution_count": null,
   "metadata": {},
   "outputs": [],
   "source": [
    "og_list=[2,3,4,1,2,6,1,3,3,3,7,1,5,4,2]\n",
    "\n",
    "hashmap = dict(map(lambda x:(x,og_list.count(x)),set(og_list)))\n",
    "print(hashmap)"
   ]
  },
  {
   "cell_type": "code",
   "execution_count": null,
   "metadata": {},
   "outputs": [],
   "source": [
    "from functools import reduce\n",
    "\n",
    "odds=set(filter(lambda x:x%2==1,og_list))\n",
    "print(odds)\n",
    "marks =[67,45,32,93,79,83]\n",
    "top_marks = list(filter(lambda x: x >= 45, marks))\n",
    "top_marks.sort(reverse=True)\n",
    "top_3_marks = top_marks[:3]\n",
    "print(top_3_marks)\n",
    "sum = reduce(lambda x,y:x+y,og_list)\n",
    "count = reduce(lambda x, _: x + 1, og_list, 0)\n",
    "ans=round(sum/count,3)\n",
    "print(ans)"
   ]
  },
  {
   "cell_type": "code",
   "execution_count": 2,
   "metadata": {},
   "outputs": [
    {
     "name": "stdout",
     "output_type": "stream",
     "text": [
      "Max value: 10\n",
      "Min value: 2\n"
     ]
    }
   ],
   "source": [
    "from functools import reduce\n",
    "\n",
    "def find_max_min(lst):\n",
    "    max_value = reduce(lambda x, y: x if x > y else y, lst)\n",
    "    min_value = reduce(lambda x, y: x if x < y else y, lst)\n",
    "    return max_value, min_value\n",
    "\n",
    "my_list = [5, 10, 3, 8, 2]\n",
    "max_value, min_value = find_max_min(my_list)\n",
    "print(\"Max value:\", max_value)\n",
    "print(\"Min value:\", min_value)"
   ]
  },
  {
   "cell_type": "code",
   "execution_count": 13,
   "metadata": {},
   "outputs": [
    {
     "name": "stdout",
     "output_type": "stream",
     "text": [
      "[1, 2, 'Fizz', 4, 'Buzz', 'Fizz', 7, 8, 'Fizz', 'Buzz', 11, 'Fizz', 13, 14, 'Fizz Buzz', 16, 17, 'Fizz', 19, 'Buzz']\n"
     ]
    }
   ],
   "source": [
    "def fizz_buzz(num):\n",
    "    ans=list()\n",
    "    for i in range(1,num+1,1):\n",
    "        if i%3==0 and i%5==0:\n",
    "            ans.append(\"Fizz Buzz\")\n",
    "        elif i%3== 0:\n",
    "            ans.append(\"Fizz\")\n",
    "        elif i%5== 0:\n",
    "            ans.append(\"Buzz\")\n",
    "        else:\n",
    "            ans.append(i)\n",
    "\n",
    "    return ans    \n",
    "\n",
    "print(fizz_buzz(20))    "
   ]
  }
 ],
 "metadata": {
  "kernelspec": {
   "display_name": "Python 3",
   "language": "python",
   "name": "python3"
  },
  "language_info": {
   "codemirror_mode": {
    "name": "ipython",
    "version": 3
   },
   "file_extension": ".py",
   "mimetype": "text/x-python",
   "name": "python",
   "nbconvert_exporter": "python",
   "pygments_lexer": "ipython3",
   "version": "3.11.9"
  }
 },
 "nbformat": 4,
 "nbformat_minor": 2
}
