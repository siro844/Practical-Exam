{
 "cells": [
  {
   "cell_type": "code",
   "execution_count": 1,
   "metadata": {},
   "outputs": [
    {
     "ename": "ValueError",
     "evalue": "invalid literal for int() with base 10: ''",
     "output_type": "error",
     "traceback": [
      "\u001b[1;31m---------------------------------------------------------------------------\u001b[0m",
      "\u001b[1;31mValueError\u001b[0m                                Traceback (most recent call last)",
      "Cell \u001b[1;32mIn[1], line 4\u001b[0m\n\u001b[0;32m      1\u001b[0m \u001b[38;5;28;01mclass\u001b[39;00m \u001b[38;5;21;01mInvalidInput\u001b[39;00m(\u001b[38;5;167;01mException\u001b[39;00m):\n\u001b[0;32m      2\u001b[0m     \u001b[38;5;28;01mpass\u001b[39;00m\n\u001b[1;32m----> 4\u001b[0m mark\u001b[38;5;241m=\u001b[39m\u001b[38;5;28;43mint\u001b[39;49m\u001b[43m(\u001b[49m\u001b[38;5;28;43minput\u001b[39;49m\u001b[43m(\u001b[49m\u001b[38;5;124;43m\"\u001b[39;49m\u001b[38;5;124;43mEnter your marks: \u001b[39;49m\u001b[38;5;124;43m\"\u001b[39;49m\u001b[43m)\u001b[49m\u001b[43m)\u001b[49m\n\u001b[0;32m      5\u001b[0m \u001b[38;5;28;01mtry\u001b[39;00m:\n\u001b[0;32m      6\u001b[0m     \u001b[38;5;28;01mif\u001b[39;00m mark\u001b[38;5;241m>\u001b[39m\u001b[38;5;241m100\u001b[39m \u001b[38;5;129;01mor\u001b[39;00m mark\u001b[38;5;241m<\u001b[39m\u001b[38;5;241m0\u001b[39m:\n",
      "\u001b[1;31mValueError\u001b[0m: invalid literal for int() with base 10: ''"
     ]
    }
   ],
   "source": [
    "class InvalidInput(Exception):\n",
    "    pass\n",
    "\n",
    "mark=int(input(\"Enter your marks: \"))\n",
    "try:\n",
    "    if mark>100 or mark<0:\n",
    "        raise InvalidInput\n",
    "    else:\n",
    "        print(\"You dont lie\")\n",
    "except InvalidInput:\n",
    "    print(\"The input entered is invalid\")"
   ]
  },
  {
   "cell_type": "code",
   "execution_count": null,
   "metadata": {},
   "outputs": [
    {
     "name": "stdout",
     "output_type": "stream",
     "text": [
      "Both are not integers\n"
     ]
    }
   ],
   "source": [
    "a =(input(\"Enter number 1\"))\n",
    "b =(input(\"Enter number 2\"))\n",
    "\n",
    "try:\n",
    "    r1 = int(a)\n",
    "    r2= int(b)\n",
    "    print(\"Both are integers\")\n",
    "except ValueError:\n",
    "    print(\"Both are not integers\")"
   ]
  },
  {
   "cell_type": "markdown",
   "metadata": {},
   "source": [
    "# Classes"
   ]
  },
  {
   "cell_type": "code",
   "execution_count": 24,
   "metadata": {},
   "outputs": [
    {
     "name": "stdout",
     "output_type": "stream",
     "text": [
      "19\n"
     ]
    }
   ],
   "source": [
    "class Details:\n",
    "    name=\"Yash\"\n",
    "    age=19\n",
    "\n",
    "person = Details()\n",
    "try:\n",
    "    print(person.age)\n",
    "except AttributeError:\n",
    "    print(\"Attribute not found\")\n"
   ]
  },
  {
   "cell_type": "code",
   "execution_count": 34,
   "metadata": {},
   "outputs": [
    {
     "name": "stdout",
     "output_type": "stream",
     "text": [
      "Yash is in Division 31\n"
     ]
    }
   ],
   "source": [
    "class Student:\n",
    "    def __init__(self,name,div):\n",
    "        self.name=name\n",
    "        self.div=div\n",
    "    def print_name_and_division(self):  \n",
    "        print(self.name, \"is in Division\", self.div)  \n",
    "person = Student(\"Yash\",31)\n",
    "person.print_name_and_division()  \n"
   ]
  },
  {
   "cell_type": "code",
   "execution_count": 35,
   "metadata": {},
   "outputs": [
    {
     "name": "stdout",
     "output_type": "stream",
     "text": [
      "Im the parent class\n",
      "Im the child class\n"
     ]
    }
   ],
   "source": [
    "class Parent:\n",
    "    def fun1(self):\n",
    "        print(\"Im the parent class\")\n",
    "\n",
    "class Child(Parent):\n",
    "    def fun2(self):\n",
    "        print(\"Im the child class\") \n",
    "\n",
    "obj1 = Child()\n",
    "obj1.fun1()\n",
    "obj1.fun2()               "
   ]
  },
  {
   "cell_type": "code",
   "execution_count": 36,
   "metadata": {},
   "outputs": [
    {
     "name": "stdout",
     "output_type": "stream",
     "text": [
      "Father is :  Yatin  Mother is :  Samrudhi\n"
     ]
    }
   ],
   "source": [
    "class Father:\n",
    "    father=\"\"\n",
    "    def father(self):\n",
    "        print(self.father)\n",
    "\n",
    "class Mother:\n",
    "    mother=\"\"\n",
    "    def mother(self):\n",
    "        print(self.mother)\n",
    "\n",
    "class Child(Father,Mother):\n",
    "    def parent(self):\n",
    "        print(\"Father is : \",self.father,\" Mother is : \",self.mother)\n",
    "\n",
    "yash = Child()\n",
    "yash.father=\"Yatin\"\n",
    "yash.mother=\"Samrudhi\"\n",
    "yash.parent()"
   ]
  },
  {
   "cell_type": "code",
   "execution_count": 43,
   "metadata": {},
   "outputs": [
    {
     "name": "stdout",
     "output_type": "stream",
     "text": [
      "Pika pi\n",
      "Char Char\n"
     ]
    }
   ],
   "source": [
    "# Getters: Used to get a Value @property\n",
    "# Setters: Used to replace the current obj value with that value\n",
    "class Pikachu:\n",
    "    def __init__(self,value):\n",
    "        self._value=value\n",
    "\n",
    "    @property\n",
    "    def g_val(self):\n",
    "        return self._value\n",
    "\n",
    "    @g_val.setter\n",
    "    def g_val(self,new_val):  \n",
    "        self._value=new_val\n",
    "\n",
    "obj=Pikachu(\"Pika pi\")\n",
    "print(obj.g_val)\n",
    "obj.g_val = \"Char Char\"  \n",
    "print(obj.g_val)"
   ]
  },
  {
   "cell_type": "code",
   "execution_count": 50,
   "metadata": {},
   "outputs": [
    {
     "name": "stdout",
     "output_type": "stream",
     "text": [
      "Tu janta nahi mera baap kon hain\n",
      "Ajoba : Charlizard\n",
      "Baba : Charmeleon\n",
      "Mi : Charmender\n"
     ]
    }
   ],
   "source": [
    "#Multilevel Inheritence + super keyword\n",
    "\n",
    "class GrandFather:\n",
    "    def __init__(self,grandfather):\n",
    "        self.grandfather=grandfather\n",
    "\n",
    "class Father(GrandFather):\n",
    "    def __init__(self,father,grandfather):\n",
    "        self.father=father\n",
    "        GrandFather.__init__(self,grandfather)\n",
    "    def papu(self):\n",
    "        print(\"Tu janta nahi mera baap kon hain\")    \n",
    "\n",
    "class Child(Father):\n",
    "    def __init__(self,son,father,grandfather):\n",
    "        self.son=son\n",
    "        Father.__init__(self,father,grandfather)\n",
    "    \n",
    "    def print_name(self):\n",
    "        super().papu()\n",
    "        print('Ajoba :',self.grandfather)\n",
    "        print('Baba :',self.father)\n",
    "        print('Mi :',self.son)\n",
    "\n",
    "pokemon =Child('Charmender','Charmeleon','Charlizard')\n",
    "pokemon.print_name()\n"
   ]
  },
  {
   "cell_type": "code",
   "execution_count": 55,
   "metadata": {},
   "outputs": [
    {
     "name": "stdout",
     "output_type": "stream",
     "text": [
      "50.24\n"
     ]
    }
   ],
   "source": [
    "class Shape:\n",
    "    def __init__(self,x,y):\n",
    "        self.x=x\n",
    "        self.y=y\n",
    "    def area(self):\n",
    "        return self.x*self.y\n",
    "\n",
    "class Circle(Shape):\n",
    "    def __init__(self,r):\n",
    "        self.r=r\n",
    "        super().__init__(r,r)\n",
    "    def area(self):\n",
    "        return 3.14* super().area()\n",
    "\n",
    "gola = Circle(4)\n",
    "print(gola.area())        \n"
   ]
  },
  {
   "cell_type": "code",
   "execution_count": 1,
   "metadata": {},
   "outputs": [
    {
     "ename": "AttributeError",
     "evalue": "'function' object has no attribute '_name_'",
     "output_type": "error",
     "traceback": [
      "\u001b[1;31m---------------------------------------------------------------------------\u001b[0m",
      "\u001b[1;31mAttributeError\u001b[0m                            Traceback (most recent call last)",
      "Cell \u001b[1;32mIn[1], line 18\u001b[0m\n\u001b[0;32m     13\u001b[0m \u001b[38;5;129m@runtime_decorator\u001b[39m\n\u001b[0;32m     14\u001b[0m \u001b[38;5;28;01mdef\u001b[39;00m \u001b[38;5;21mmy_function\u001b[39m():\n\u001b[0;32m     15\u001b[0m     \u001b[38;5;66;03m# Your function code here\u001b[39;00m\n\u001b[0;32m     16\u001b[0m     \u001b[38;5;28;01mpass\u001b[39;00m\n\u001b[1;32m---> 18\u001b[0m \u001b[43mmy_function\u001b[49m\u001b[43m(\u001b[49m\u001b[43m)\u001b[49m\n",
      "Cell \u001b[1;32mIn[1], line 8\u001b[0m, in \u001b[0;36mruntime_decorator.<locals>.wrapper\u001b[1;34m(*args, **kwargs)\u001b[0m\n\u001b[0;32m      6\u001b[0m result \u001b[38;5;241m=\u001b[39m func(\u001b[38;5;241m*\u001b[39margs, \u001b[38;5;241m*\u001b[39m\u001b[38;5;241m*\u001b[39mkwargs)\n\u001b[0;32m      7\u001b[0m end_time \u001b[38;5;241m=\u001b[39m time\u001b[38;5;241m.\u001b[39mtime()\n\u001b[1;32m----> 8\u001b[0m \u001b[38;5;28mprint\u001b[39m(\u001b[38;5;124mf\u001b[39m\u001b[38;5;124m\"\u001b[39m\u001b[38;5;124mRuntime of \u001b[39m\u001b[38;5;132;01m{\u001b[39;00m\u001b[43mfunc\u001b[49m\u001b[38;5;241;43m.\u001b[39;49m\u001b[43m_name_\u001b[49m\u001b[38;5;132;01m}\u001b[39;00m\u001b[38;5;124m: \u001b[39m\u001b[38;5;132;01m{\u001b[39;00mend_time\u001b[38;5;250m \u001b[39m\u001b[38;5;241m-\u001b[39m\u001b[38;5;250m \u001b[39mstart_time\u001b[38;5;132;01m}\u001b[39;00m\u001b[38;5;124m seconds\u001b[39m\u001b[38;5;124m\"\u001b[39m)\n\u001b[0;32m      9\u001b[0m \u001b[38;5;28;01mreturn\u001b[39;00m result\n",
      "\u001b[1;31mAttributeError\u001b[0m: 'function' object has no attribute '_name_'"
     ]
    }
   ],
   "source": [
    "# importing libraries\n",
    "import time\n",
    "import math\n",
    "\n",
    "# decorator to calculate duration\n",
    "# taken by any function.\n",
    "def calculate_time(func):\n",
    "\t\n",
    "\t# added arguments inside the inner1,\n",
    "\t# if function takes any arguments,\n",
    "\t# can be added like this.\n",
    "\tdef inner1(*args, **kwargs):\n",
    "\n",
    "\t\t# storing time before function execution\n",
    "\t\tbegin = time.time()\n",
    "\t\t\n",
    "\t\tfunc(*args, **kwargs)\n",
    "\n",
    "\t\t# storing time after function execution\n",
    "\t\tend = time.time()\n",
    "\t\tprint(\"Total time taken in : \", func.__name__, end - begin)\n",
    "\n",
    "\treturn inner1\n",
    "\n",
    "\n",
    "\n",
    "# this can be added to any function present,\n",
    "# in this case to calculate a factorial\n",
    "@calculate_time\n",
    "def factorial(num):\n",
    "\n",
    "\t# sleep 2 seconds because it takes very less time\n",
    "\t# so that you can see the actual difference\n",
    "\ttime.sleep(2)\n",
    "\tprint(math.factorial(num))\n",
    "\n",
    "# calling the function.\n",
    "factorial(10)\n"
   ]
  }
 ],
 "metadata": {
  "kernelspec": {
   "display_name": "Python 3",
   "language": "python",
   "name": "python3"
  },
  "language_info": {
   "codemirror_mode": {
    "name": "ipython",
    "version": 3
   },
   "file_extension": ".py",
   "mimetype": "text/x-python",
   "name": "python",
   "nbconvert_exporter": "python",
   "pygments_lexer": "ipython3",
   "version": "3.11.9"
  }
 },
 "nbformat": 4,
 "nbformat_minor": 2
}
